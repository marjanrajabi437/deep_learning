{
 "cells": [
  {
   "cell_type": "markdown",
   "id": "ba8ab56f",
   "metadata": {},
   "source": [
    "# Advanced Image Classification with ImageNet"
   ]
  },
  {
   "cell_type": "markdown",
   "id": "7c630244b8fe2847",
   "metadata": {
    "collapsed": false
   },
   "source": [
    "In this assignment, you will be asked to develop a convolutional neural network (CNN) to classify images from the CIFAR-100 dataset. At each step, you'll be guided through the process of developing a model architecture to solve a problem. Your goal is to create a CNN that attains at least 55% accuracy on the validation set.\n",
    "\n",
    "### The CIFAR-100 Dataset\n",
    "\n",
    "The [CIFAR-100 dataset](https://www.cs.toronto.edu/~kriz/cifar.html) consists of 60000 32x32 colour images in 100 classes, with 600 images per class. There are 50000 training images and 10000 test images. The dataset is divided into five training batches and one test batch, each with 10000 images. The test batch contains exactly 1000 randomly-selected images from each class. The training batches contain the remaining images in random order, but some training batches may contain more images from one class than another. Between them, the training batches contain exactly 500 images from each class.\n",
    "\n",
    "### Tools\n",
    "\n",
    "You will use Keras with TensorFlow to develop your CNN. For this assignment, it's strongly recommended that you use a GPU to accelerate your training, or else you might find it difficult to train your network in a reasonable amount of time. If you have a computer with a GPU that you wish to use, you can follow the [TensorFlow instructions](https://www.tensorflow.org/install/) for installing TensorFlow with GPU support. Otherwise, you can use [Google Colab](https://colab.research.google.com/) to complete this assignment. Colab provides free access to GPU-enabled machines. If you run into any issues, please contact us as soon as possible so that we can help you resolve them."
   ]
  },
  {
   "cell_type": "markdown",
   "id": "fab62988ece1528d",
   "metadata": {
    "collapsed": false
   },
   "source": [
    "## Task 1: Data Exploration and Preprocessing (Complete or Incomplete)\n",
    "### 1a: Load and Explore the Dataset\n",
    "- Use the code below to download the dataset.\n",
    "- Explore the dataset: examine the shape of the training and test sets, the dimensions of the images, and the number of classes. Show a few examples from the training set."
   ]
  },
  {
   "cell_type": "code",
   "execution_count": 78,
   "id": "b750cb7c",
   "metadata": {},
   "outputs": [
    {
     "name": "stdout",
     "output_type": "stream",
     "text": [
      "Training set shape: (50000, 32, 32, 3)\n",
      "Test set shape: (10000, 32, 32, 3)\n",
      "Number of classes: 100\n",
      "Image dimensions (height, width, channels): (32, 32, 3)\n"
     ]
    },
    {
     "data": {
      "image/png": "[encoded data removed]",
      "text/plain": [
       "<Figure size 1500x500 with 5 Axes>"
      ]
     },
     "metadata": {},
     "output_type": "display_data"
    }
   ],
   "source": [
    "# Import necessary libraries\n",
    "import numpy as np\n",
    "import matplotlib.pyplot as plt\n",
    "from tensorflow.keras.datasets import cifar100\n",
    "\n",
    "# 1. Load the CIFAR-100 dataset\n",
    "(x_train, y_train), (x_test, y_test) = cifar100.load_data()\n",
    "\n",
    "# 2. Explore the dataset\n",
    "print(\"Training set shape:\", x_train.shape)\n",
    "print(\"Test set shape:\", x_test.shape)\n",
    "print(\"Number of classes:\", len(np.unique(y_train)))\n",
    "\n",
    "# 3. Show image dimensions (height, width, and channels)\n",
    "image_shape = x_train[0].shape\n",
    "print(\"Image dimensions (height, width, channels):\", image_shape)\n",
    "\n",
    "# 4. Display a few examples from the training set\n",
    "# Set up the plot\n",
    "fig, axes = plt.subplots(1, 5, figsize=(15, 5))\n",
    "\n",
    "# Display 5 random images\n",
    "for i in range(5):\n",
    "    ax = axes[i]\n",
    "    ax.imshow(x_train[i])  # Display image\n",
    "    ax.set_title(f\"Label: {y_train[i][0]}\")  # Display label\n",
    "    ax.axis('off')\n",
    "\n",
    "plt.show()"
   ]
  },
  {
   "cell_type": "markdown",
   "id": "ad49291da3a819ea",
   "metadata": {
    "collapsed": false
   },
   "source": [
    "### 1b: Data Preprocessing (4 Marks)\n",
    "- With the data downloaded, it's time to preprocess it. Start by normalizing the images so that they all have pixel values in the range [0, 1].\n",
    "- Next, convert the labels to one-hot encoded vectors.\n",
    "- Finally, split the training set into training and validation sets. Use 80% of the training set for training and the remaining 20% for validation."
   ]
  },
  {
   "cell_type": "code",
   "execution_count": null,
   "id": "5e2074df",
   "metadata": {},
   "outputs": [
    {
     "name": "stdout",
     "output_type": "stream",
     "text": [
      "Original pixel value range in x_train: 0 - 255\n",
      "Normalized pixel value range in x_train_normalized: 0.0 - 1.0\n",
      "Original label (y_train[0]): [19]\n",
      "One-hot encoded label (y_train_one_hot[0]): [0. 0. 0. 0. 0. 0. 0. 0. 0. 0. 0. 0. 0. 0. 0. 0. 0. 0. 0. 1. 0. 0. 0. 0.\n",
      " 0. 0. 0. 0. 0. 0. 0. 0. 0. 0. 0. 0. 0. 0. 0. 0. 0. 0. 0. 0. 0. 0. 0. 0.\n",
      " 0. 0. 0. 0. 0. 0. 0. 0. 0. 0. 0. 0. 0. 0. 0. 0. 0. 0. 0. 0. 0. 0. 0. 0.\n",
      " 0. 0. 0. 0. 0. 0. 0. 0. 0. 0. 0. 0. 0. 0. 0. 0. 0. 0. 0. 0. 0. 0. 0. 0.\n",
      " 0. 0. 0. 0.]\n",
      "Shape of y_train_one_hot: (50000, 100)\n",
      "Shape of y_test_one_hot: (10000, 100)\n",
      "Training set split into training (80%) and validation (20%) sets.\n",
      "Training set shape: (40000, 32, 32, 3)\n",
      "Validation set shape: (10000, 32, 32, 3)\n"
     ]
    }
   ],
   "source": [
    "from sklearn.model_selection import train_test_split\n",
    "from tensorflow.keras.utils import to_categorical\n",
    "\n",
    "# 1. Normalize the images to the range [0, 1]\n",
    "x_train_normalized = x_train.astype('float32') / 255.0\n",
    "x_test_normalized = x_test.astype('float32') / 255.0\n",
    "\n",
    "# Verify normalization\n",
    "print(\"Original pixel value range in x_train:\", x_train.min(), \"-\", x_train.max())\n",
    "print(\"Normalized pixel value range in x_train_normalized:\", x_train_normalized.min(), \"-\", x_train_normalized.max())\n",
    "\n",
    "# 2. One-hot encode the labels\n",
    "y_train_one_hot = to_categorical(y_train, num_classes=100)\n",
    "y_test_one_hot = to_categorical(y_test, num_classes=100)\n",
    "\n",
    "# Verify the transformation\n",
    "print(\"Original label (y_train[0]):\", y_train[0])  # Example: [19]\n",
    "print(\"One-hot encoded label (y_train_one_hot[0]):\", y_train_one_hot[0])  # Example: Vector with 1 at index 19\n",
    "print(\"Shape of y_train_one_hot:\", y_train_one_hot.shape)  # Expected: (50000, 100)\n",
    "print(\"Shape of y_test_one_hot:\", y_test_one_hot.shape)    # Expected: (10000, 100)\n",
    "\n",
    "\n",
    "# 3. Split the training set into training and validation sets\n",
    "x_train_split, x_val_split, y_train_split, y_val_split = train_test_split(\n",
    "    x_train_normalized, y_train_one_hot, test_size=0.2, random_state=42\n",
    ")\n",
    "\n",
    "print(\"Training set split into training (80%) and validation (20%) sets.\")\n",
    "print(\"Training set shape:\", x_train_split.shape)\n",
    "print(\"Validation set shape:\", x_val_split.shape)"
   ]
  },
  {
   "cell_type": "markdown",
   "id": "5993757f08c89db7",
   "metadata": {
    "collapsed": false
   },
   "source": [
    "## Task 2: Model Development (Complete or Incomplete)\n",
    "### Task 2a: Create a Baseline CNN Model\n",
    "- Design a CNN architecture. Your architecture should use convolutional layers, max pooling layers, and dense layers. You can use any number of layers, and you can experiment with different numbers of filters, filter sizes, strides, padding, etc. The design doesn't need to be perfect, but it should be unique to you.\n",
    "- Print out the model summary."
   ]
  },
  {
   "cell_type": "code",
   "execution_count": 80,
   "id": "ca193cd8",
   "metadata": {},
   "outputs": [
    {
     "data": {
      "text/html": [
       "<pre style=\"white-space:pre;overflow-x:auto;line-height:normal;font-family:Menlo,'DejaVu Sans Mono',consolas,'Courier New',monospace\"><span style=\"font-weight: bold\">Model: \"sequential_11\"</span>\n",
       "</pre>\n"
      ],
      "text/plain": [
       "\u001b[1mModel: \"sequential_11\"\u001b[0m\n"
      ]
     },
     "metadata": {},
     "output_type": "display_data"
    },
    {
     "data": {
      "text/html": [
       "<pre style=\"white-space:pre;overflow-x:auto;line-height:normal;font-family:Menlo,'DejaVu Sans Mono',consolas,'Courier New',monospace\">┏━━━━━━━━━━━━━━━━━━━━━━━━━━━━━━━━━┳━━━━━━━━━━━━━━━━━━━━━━━━┳━━━━━━━━━━━━━━━┓\n",
       "┃<span style=\"font-weight: bold\"> Layer (type)                    </span>┃<span style=\"font-weight: bold\"> Output Shape           </span>┃<span style=\"font-weight: bold\">       Param # </span>┃\n",
       "┡━━━━━━━━━━━━━━━━━━━━━━━━━━━━━━━━━╇━━━━━━━━━━━━━━━━━━━━━━━━╇━━━━━━━━━━━━━━━┩\n",
       "│ conv2d_26 (<span style=\"color: #0087ff; text-decoration-color: #0087ff\">Conv2D</span>)              │ (<span style=\"color: #00d7ff; text-decoration-color: #00d7ff\">None</span>, <span style=\"color: #00af00; text-decoration-color: #00af00\">32</span>, <span style=\"color: #00af00; text-decoration-color: #00af00\">32</span>, <span style=\"color: #00af00; text-decoration-color: #00af00\">32</span>)     │           <span style=\"color: #00af00; text-decoration-color: #00af00\">896</span> │\n",
       "├─────────────────────────────────┼────────────────────────┼───────────────┤\n",
       "│ max_pooling2d_26 (<span style=\"color: #0087ff; text-decoration-color: #0087ff\">MaxPooling2D</span>) │ (<span style=\"color: #00d7ff; text-decoration-color: #00d7ff\">None</span>, <span style=\"color: #00af00; text-decoration-color: #00af00\">16</span>, <span style=\"color: #00af00; text-decoration-color: #00af00\">16</span>, <span style=\"color: #00af00; text-decoration-color: #00af00\">32</span>)     │             <span style=\"color: #00af00; text-decoration-color: #00af00\">0</span> │\n",
       "├─────────────────────────────────┼────────────────────────┼───────────────┤\n",
       "│ conv2d_27 (<span style=\"color: #0087ff; text-decoration-color: #0087ff\">Conv2D</span>)              │ (<span style=\"color: #00d7ff; text-decoration-color: #00d7ff\">None</span>, <span style=\"color: #00af00; text-decoration-color: #00af00\">16</span>, <span style=\"color: #00af00; text-decoration-color: #00af00\">16</span>, <span style=\"color: #00af00; text-decoration-color: #00af00\">64</span>)     │        <span style=\"color: #00af00; text-decoration-color: #00af00\">18,496</span> │\n",
       "├─────────────────────────────────┼────────────────────────┼───────────────┤\n",
       "│ max_pooling2d_27 (<span style=\"color: #0087ff; text-decoration-color: #0087ff\">MaxPooling2D</span>) │ (<span style=\"color: #00d7ff; text-decoration-color: #00d7ff\">None</span>, <span style=\"color: #00af00; text-decoration-color: #00af00\">8</span>, <span style=\"color: #00af00; text-decoration-color: #00af00\">8</span>, <span style=\"color: #00af00; text-decoration-color: #00af00\">64</span>)       │             <span style=\"color: #00af00; text-decoration-color: #00af00\">0</span> │\n",
       "├─────────────────────────────────┼────────────────────────┼───────────────┤\n",
       "│ conv2d_28 (<span style=\"color: #0087ff; text-decoration-color: #0087ff\">Conv2D</span>)              │ (<span style=\"color: #00d7ff; text-decoration-color: #00d7ff\">None</span>, <span style=\"color: #00af00; text-decoration-color: #00af00\">8</span>, <span style=\"color: #00af00; text-decoration-color: #00af00\">8</span>, <span style=\"color: #00af00; text-decoration-color: #00af00\">128</span>)      │        <span style=\"color: #00af00; text-decoration-color: #00af00\">73,856</span> │\n",
       "├─────────────────────────────────┼────────────────────────┼───────────────┤\n",
       "│ max_pooling2d_28 (<span style=\"color: #0087ff; text-decoration-color: #0087ff\">MaxPooling2D</span>) │ (<span style=\"color: #00d7ff; text-decoration-color: #00d7ff\">None</span>, <span style=\"color: #00af00; text-decoration-color: #00af00\">4</span>, <span style=\"color: #00af00; text-decoration-color: #00af00\">4</span>, <span style=\"color: #00af00; text-decoration-color: #00af00\">128</span>)      │             <span style=\"color: #00af00; text-decoration-color: #00af00\">0</span> │\n",
       "├─────────────────────────────────┼────────────────────────┼───────────────┤\n",
       "│ flatten_11 (<span style=\"color: #0087ff; text-decoration-color: #0087ff\">Flatten</span>)            │ (<span style=\"color: #00d7ff; text-decoration-color: #00d7ff\">None</span>, <span style=\"color: #00af00; text-decoration-color: #00af00\">2048</span>)           │             <span style=\"color: #00af00; text-decoration-color: #00af00\">0</span> │\n",
       "├─────────────────────────────────┼────────────────────────┼───────────────┤\n",
       "│ dense_22 (<span style=\"color: #0087ff; text-decoration-color: #0087ff\">Dense</span>)                │ (<span style=\"color: #00d7ff; text-decoration-color: #00d7ff\">None</span>, <span style=\"color: #00af00; text-decoration-color: #00af00\">128</span>)            │       <span style=\"color: #00af00; text-decoration-color: #00af00\">262,272</span> │\n",
       "├─────────────────────────────────┼────────────────────────┼───────────────┤\n",
       "│ dropout_13 (<span style=\"color: #0087ff; text-decoration-color: #0087ff\">Dropout</span>)            │ (<span style=\"color: #00d7ff; text-decoration-color: #00d7ff\">None</span>, <span style=\"color: #00af00; text-decoration-color: #00af00\">128</span>)            │             <span style=\"color: #00af00; text-decoration-color: #00af00\">0</span> │\n",
       "├─────────────────────────────────┼────────────────────────┼───────────────┤\n",
       "│ dense_23 (<span style=\"color: #0087ff; text-decoration-color: #0087ff\">Dense</span>)                │ (<span style=\"color: #00d7ff; text-decoration-color: #00d7ff\">None</span>, <span style=\"color: #00af00; text-decoration-color: #00af00\">100</span>)            │        <span style=\"color: #00af00; text-decoration-color: #00af00\">12,900</span> │\n",
       "└─────────────────────────────────┴────────────────────────┴───────────────┘\n",
       "</pre>\n"
      ],
      "text/plain": [
       "┏━━━━━━━━━━━━━━━━━━━━━━━━━━━━━━━━━┳━━━━━━━━━━━━━━━━━━━━━━━━┳━━━━━━━━━━━━━━━┓\n",
       "┃\u001b[1m \u001b[0m\u001b[1mLayer (type)                   \u001b[0m\u001b[1m \u001b[0m┃\u001b[1m \u001b[0m\u001b[1mOutput Shape          \u001b[0m\u001b[1m \u001b[0m┃\u001b[1m \u001b[0m\u001b[1m      Param #\u001b[0m\u001b[1m \u001b[0m┃\n",
       "┡━━━━━━━━━━━━━━━━━━━━━━━━━━━━━━━━━╇━━━━━━━━━━━━━━━━━━━━━━━━╇━━━━━━━━━━━━━━━┩\n",
       "│ conv2d_26 (\u001b[38;5;33mConv2D\u001b[0m)              │ (\u001b[38;5;45mNone\u001b[0m, \u001b[38;5;34m32\u001b[0m, \u001b[38;5;34m32\u001b[0m, \u001b[38;5;34m32\u001b[0m)     │           \u001b[38;5;34m896\u001b[0m │\n",
       "├─────────────────────────────────┼────────────────────────┼───────────────┤\n",
       "│ max_pooling2d_26 (\u001b[38;5;33mMaxPooling2D\u001b[0m) │ (\u001b[38;5;45mNone\u001b[0m, \u001b[38;5;34m16\u001b[0m, \u001b[38;5;34m16\u001b[0m, \u001b[38;5;34m32\u001b[0m)     │             \u001b[38;5;34m0\u001b[0m │\n",
       "├─────────────────────────────────┼────────────────────────┼───────────────┤\n",
       "│ conv2d_27 (\u001b[38;5;33mConv2D\u001b[0m)              │ (\u001b[38;5;45mNone\u001b[0m, \u001b[38;5;34m16\u001b[0m, \u001b[38;5;34m16\u001b[0m, \u001b[38;5;34m64\u001b[0m)     │        \u001b[38;5;34m18,496\u001b[0m │\n",
       "├─────────────────────────────────┼────────────────────────┼───────────────┤\n",
       "│ max_pooling2d_27 (\u001b[38;5;33mMaxPooling2D\u001b[0m) │ (\u001b[38;5;45mNone\u001b[0m, \u001b[38;5;34m8\u001b[0m, \u001b[38;5;34m8\u001b[0m, \u001b[38;5;34m64\u001b[0m)       │             \u001b[38;5;34m0\u001b[0m │\n",
       "├─────────────────────────────────┼────────────────────────┼───────────────┤\n",
       "│ conv2d_28 (\u001b[38;5;33mConv2D\u001b[0m)              │ (\u001b[38;5;45mNone\u001b[0m, \u001b[38;5;34m8\u001b[0m, \u001b[38;5;34m8\u001b[0m, \u001b[38;5;34m128\u001b[0m)      │        \u001b[38;5;34m73,856\u001b[0m │\n",
       "├─────────────────────────────────┼────────────────────────┼───────────────┤\n",
       "│ max_pooling2d_28 (\u001b[38;5;33mMaxPooling2D\u001b[0m) │ (\u001b[38;5;45mNone\u001b[0m, \u001b[38;5;34m4\u001b[0m, \u001b[38;5;34m4\u001b[0m, \u001b[38;5;34m128\u001b[0m)      │             \u001b[38;5;34m0\u001b[0m │\n",
       "├─────────────────────────────────┼────────────────────────┼───────────────┤\n",
       "│ flatten_11 (\u001b[38;5;33mFlatten\u001b[0m)            │ (\u001b[38;5;45mNone\u001b[0m, \u001b[38;5;34m2048\u001b[0m)           │             \u001b[38;5;34m0\u001b[0m │\n",
       "├─────────────────────────────────┼────────────────────────┼───────────────┤\n",
       "│ dense_22 (\u001b[38;5;33mDense\u001b[0m)                │ (\u001b[38;5;45mNone\u001b[0m, \u001b[38;5;34m128\u001b[0m)            │       \u001b[38;5;34m262,272\u001b[0m │\n",
       "├─────────────────────────────────┼────────────────────────┼───────────────┤\n",
       "│ dropout_13 (\u001b[38;5;33mDropout\u001b[0m)            │ (\u001b[38;5;45mNone\u001b[0m, \u001b[38;5;34m128\u001b[0m)            │             \u001b[38;5;34m0\u001b[0m │\n",
       "├─────────────────────────────────┼────────────────────────┼───────────────┤\n",
       "│ dense_23 (\u001b[38;5;33mDense\u001b[0m)                │ (\u001b[38;5;45mNone\u001b[0m, \u001b[38;5;34m100\u001b[0m)            │        \u001b[38;5;34m12,900\u001b[0m │\n",
       "└─────────────────────────────────┴────────────────────────┴───────────────┘\n"
      ]
     },
     "metadata": {},
     "output_type": "display_data"
    },
    {
     "data": {
      "text/html": [
       "<pre style=\"white-space:pre;overflow-x:auto;line-height:normal;font-family:Menlo,'DejaVu Sans Mono',consolas,'Courier New',monospace\"><span style=\"font-weight: bold\"> Total params: </span><span style=\"color: #00af00; text-decoration-color: #00af00\">368,420</span> (1.41 MB)\n",
       "</pre>\n"
      ],
      "text/plain": [
       "\u001b[1m Total params: \u001b[0m\u001b[38;5;34m368,420\u001b[0m (1.41 MB)\n"
      ]
     },
     "metadata": {},
     "output_type": "display_data"
    },
    {
     "data": {
      "text/html": [
       "<pre style=\"white-space:pre;overflow-x:auto;line-height:normal;font-family:Menlo,'DejaVu Sans Mono',consolas,'Courier New',monospace\"><span style=\"font-weight: bold\"> Trainable params: </span><span style=\"color: #00af00; text-decoration-color: #00af00\">368,420</span> (1.41 MB)\n",
       "</pre>\n"
      ],
      "text/plain": [
       "\u001b[1m Trainable params: \u001b[0m\u001b[38;5;34m368,420\u001b[0m (1.41 MB)\n"
      ]
     },
     "metadata": {},
     "output_type": "display_data"
    },
    {
     "data": {
      "text/html": [
       "<pre style=\"white-space:pre;overflow-x:auto;line-height:normal;font-family:Menlo,'DejaVu Sans Mono',consolas,'Courier New',monospace\"><span style=\"font-weight: bold\"> Non-trainable params: </span><span style=\"color: #00af00; text-decoration-color: #00af00\">0</span> (0.00 B)\n",
       "</pre>\n"
      ],
      "text/plain": [
       "\u001b[1m Non-trainable params: \u001b[0m\u001b[38;5;34m0\u001b[0m (0.00 B)\n"
      ]
     },
     "metadata": {},
     "output_type": "display_data"
    }
   ],
   "source": [
    "from tensorflow.keras.models import Sequential\n",
    "from tensorflow.keras.layers import Conv2D, MaxPooling2D, Flatten, Dense, Dropout\n",
    "\n",
    "# 1. Define the CNN model\n",
    "def create_baseline_cnn():\n",
    "    model = Sequential()\n",
    "\n",
    "    # Convolutional Layer 1\n",
    "    model.add(Conv2D(filters=32, kernel_size=(3, 3), activation='relu', input_shape=(32, 32, 3), padding='same'))\n",
    "    model.add(MaxPooling2D(pool_size=(2, 2)))\n",
    "\n",
    "    # Convolutional Layer 2\n",
    "    model.add(Conv2D(filters=64, kernel_size=(3, 3), activation='relu', padding='same'))\n",
    "    model.add(MaxPooling2D(pool_size=(2, 2)))\n",
    "\n",
    "    # Convolutional Layer 3\n",
    "    model.add(Conv2D(filters=128, kernel_size=(3, 3), activation='relu', padding='same'))\n",
    "    model.add(MaxPooling2D(pool_size=(2, 2)))\n",
    "\n",
    "    # Flatten and Dense Layers\n",
    "    model.add(Flatten())\n",
    "    model.add(Dense(units=128, activation='relu'))\n",
    "    model.add(Dropout(0.5))  # Regularization\n",
    "    model.add(Dense(units=100, activation='softmax'))  # Output layer (100 classes)\n",
    "\n",
    "    return model\n",
    "\n",
    "# 2. Instantiate and summarize the model\n",
    "baseline_cnn = create_baseline_cnn()\n",
    "baseline_cnn.summary()"
   ]
  },
  {
   "cell_type": "markdown",
   "id": "546324c007c73db5",
   "metadata": {
    "collapsed": false
   },
   "source": [
    "### Task 2b: Compile the model\n",
    "\n",
    "- Select an appropriate loss function and optimizer for your model. These can be ones we have looked at already, or they can be different. \n",
    "- Briefly explain your choices (one or two sentences each).\n",
    "- <b>Loss function:</b> ______\n",
    "- <b>Optimizer:</b> ______"
   ]
  },
  {
   "cell_type": "markdown",
   "id": "fa215db6",
   "metadata": {},
   "source": [
    "Explanations:\n",
    "1) Loss Function: \n",
    "Since CIFAR-100 is a multi-class classification problem with 100 distinct classes, the categorical_crossentropy loss is appropriate. It measures the difference between the true labels (one-hot encoded) and predicted probabilities, guiding the model to minimize this error.\n",
    "2) Optimizer: \n",
    "The Adam optimizer is chosen for its adaptive learning rate capabilities, which combines the benefits of RMSProp and SGD with momentum. It helps the model converge faster and efficiently adjusts the learning rate during training. The learning rate is set to 0.001, which is a common starting point."
   ]
  },
  {
   "cell_type": "code",
   "execution_count": 81,
   "id": "4a2dc2bf",
   "metadata": {},
   "outputs": [
    {
     "name": "stdout",
     "output_type": "stream",
     "text": [
      "Model compiled successfully.\n"
     ]
    }
   ],
   "source": [
    "from tensorflow.keras.optimizers import Adam\n",
    "\n",
    "# Compile the model\n",
    "baseline_cnn.compile(\n",
    "    loss='categorical_crossentropy',  # Loss function\n",
    "    optimizer=Adam(learning_rate=0.001),  # Optimizer\n",
    "    metrics=['accuracy']  # Evaluation metric\n",
    ")\n",
    "\n",
    "print(\"Model compiled successfully.\")"
   ]
  },
  {
   "cell_type": "markdown",
   "id": "653fba928413b9f6",
   "metadata": {
    "collapsed": false
   },
   "source": [
    "## Task 3: Model Training and Evaluation (Complete or Incomplete)\n",
    "### Task 3a: Train the Model\n",
    "\n",
    "- Train your model for an appropriate number of epochs. Explain your choice of the number of epochs used - you can change this number before submitting your assignment.\n",
    "- Use a batch size of 32.\n",
    "- Use the validation set for validation."
   ]
  },
  {
   "cell_type": "markdown",
   "id": "ff423140",
   "metadata": {},
   "source": [
    "Epochs: 20\n",
    "I selected 20 epochs as an initial choice for training. This number strikes a balance between sufficient training for the model to learn from the data and preventing overfitting. Depending on the performance (e.g., training and validation loss trends), I may increase or decrease the number of epochs before finalizing the model."
   ]
  },
  {
   "cell_type": "code",
   "execution_count": 84,
   "id": "9de74f274ad08546",
   "metadata": {
    "collapsed": false
   },
   "outputs": [
    {
     "name": "stdout",
     "output_type": "stream",
     "text": [
      "Epoch 1/20\n",
      "\u001b[1m1250/1250\u001b[0m \u001b[32m━━━━━━━━━━━━━━━━━━━━\u001b[0m\u001b[37m\u001b[0m \u001b[1m23s\u001b[0m 19ms/step - accuracy: 0.9319 - loss: 0.2141 - val_accuracy: 0.3420 - val_loss: 7.7144\n",
      "Epoch 2/20\n",
      "\u001b[1m1250/1250\u001b[0m \u001b[32m━━━━━━━━━━━━━━━━━━━━\u001b[0m\u001b[37m\u001b[0m \u001b[1m24s\u001b[0m 19ms/step - accuracy: 0.9336 - loss: 0.2012 - val_accuracy: 0.3418 - val_loss: 8.1083\n",
      "Epoch 3/20\n",
      "\u001b[1m1250/1250\u001b[0m \u001b[32m━━━━━━━━━━━━━━━━━━━━\u001b[0m\u001b[37m\u001b[0m \u001b[1m24s\u001b[0m 19ms/step - accuracy: 0.9365 - loss: 0.1990 - val_accuracy: 0.3449 - val_loss: 8.3731\n",
      "Epoch 4/20\n",
      "\u001b[1m1250/1250\u001b[0m \u001b[32m━━━━━━━━━━━━━━━━━━━━\u001b[0m\u001b[37m\u001b[0m \u001b[1m24s\u001b[0m 19ms/step - accuracy: 0.9400 - loss: 0.1846 - val_accuracy: 0.3356 - val_loss: 8.2816\n",
      "Epoch 5/20\n",
      "\u001b[1m1250/1250\u001b[0m \u001b[32m━━━━━━━━━━━━━━━━━━━━\u001b[0m\u001b[37m\u001b[0m \u001b[1m25s\u001b[0m 20ms/step - accuracy: 0.9396 - loss: 0.1851 - val_accuracy: 0.3399 - val_loss: 8.6612\n",
      "Epoch 6/20\n",
      "\u001b[1m1250/1250\u001b[0m \u001b[32m━━━━━━━━━━━━━━━━━━━━\u001b[0m\u001b[37m\u001b[0m \u001b[1m24s\u001b[0m 19ms/step - accuracy: 0.9405 - loss: 0.1925 - val_accuracy: 0.3464 - val_loss: 8.6448\n",
      "Epoch 7/20\n",
      "\u001b[1m1250/1250\u001b[0m \u001b[32m━━━━━━━━━━━━━━━━━━━━\u001b[0m\u001b[37m\u001b[0m \u001b[1m23s\u001b[0m 18ms/step - accuracy: 0.9382 - loss: 0.2015 - val_accuracy: 0.3355 - val_loss: 8.6562\n",
      "Epoch 8/20\n",
      "\u001b[1m1250/1250\u001b[0m \u001b[32m━━━━━━━━━━━━━━━━━━━━\u001b[0m\u001b[37m\u001b[0m \u001b[1m24s\u001b[0m 19ms/step - accuracy: 0.9429 - loss: 0.1846 - val_accuracy: 0.3386 - val_loss: 9.0612\n",
      "Epoch 9/20\n",
      "\u001b[1m1250/1250\u001b[0m \u001b[32m━━━━━━━━━━━━━━━━━━━━\u001b[0m\u001b[37m\u001b[0m \u001b[1m23s\u001b[0m 19ms/step - accuracy: 0.9419 - loss: 0.1857 - val_accuracy: 0.3377 - val_loss: 8.7710\n",
      "Epoch 10/20\n",
      "\u001b[1m1250/1250\u001b[0m \u001b[32m━━━━━━━━━━━━━━━━━━━━\u001b[0m\u001b[37m\u001b[0m \u001b[1m25s\u001b[0m 20ms/step - accuracy: 0.9478 - loss: 0.1649 - val_accuracy: 0.3397 - val_loss: 8.9778\n",
      "Epoch 11/20\n",
      "\u001b[1m1250/1250\u001b[0m \u001b[32m━━━━━━━━━━━━━━━━━━━━\u001b[0m\u001b[37m\u001b[0m \u001b[1m25s\u001b[0m 20ms/step - accuracy: 0.9383 - loss: 0.2011 - val_accuracy: 0.3360 - val_loss: 9.2669\n",
      "Epoch 12/20\n",
      "\u001b[1m1250/1250\u001b[0m \u001b[32m━━━━━━━━━━━━━━━━━━━━\u001b[0m\u001b[37m\u001b[0m \u001b[1m22s\u001b[0m 18ms/step - accuracy: 0.9448 - loss: 0.1787 - val_accuracy: 0.3371 - val_loss: 9.0844\n",
      "Epoch 13/20\n",
      "\u001b[1m1250/1250\u001b[0m \u001b[32m━━━━━━━━━━━━━━━━━━━━\u001b[0m\u001b[37m\u001b[0m \u001b[1m23s\u001b[0m 18ms/step - accuracy: 0.9485 - loss: 0.1671 - val_accuracy: 0.3348 - val_loss: 9.2652\n",
      "Epoch 14/20\n",
      "\u001b[1m1250/1250\u001b[0m \u001b[32m━━━━━━━━━━━━━━━━━━━━\u001b[0m\u001b[37m\u001b[0m \u001b[1m25s\u001b[0m 20ms/step - accuracy: 0.9477 - loss: 0.1704 - val_accuracy: 0.3398 - val_loss: 9.9488\n",
      "Epoch 15/20\n",
      "\u001b[1m1250/1250\u001b[0m \u001b[32m━━━━━━━━━━━━━━━━━━━━\u001b[0m\u001b[37m\u001b[0m \u001b[1m26s\u001b[0m 21ms/step - accuracy: 0.9476 - loss: 0.1724 - val_accuracy: 0.3397 - val_loss: 9.9093\n",
      "Epoch 16/20\n",
      "\u001b[1m1250/1250\u001b[0m \u001b[32m━━━━━━━━━━━━━━━━━━━━\u001b[0m\u001b[37m\u001b[0m \u001b[1m24s\u001b[0m 19ms/step - accuracy: 0.9534 - loss: 0.1615 - val_accuracy: 0.3379 - val_loss: 9.8553\n",
      "Epoch 17/20\n",
      "\u001b[1m1250/1250\u001b[0m \u001b[32m━━━━━━━━━━━━━━━━━━━━\u001b[0m\u001b[37m\u001b[0m \u001b[1m21s\u001b[0m 17ms/step - accuracy: 0.9513 - loss: 0.1642 - val_accuracy: 0.3328 - val_loss: 9.8354\n",
      "Epoch 18/20\n",
      "\u001b[1m1250/1250\u001b[0m \u001b[32m━━━━━━━━━━━━━━━━━━━━\u001b[0m\u001b[37m\u001b[0m \u001b[1m24s\u001b[0m 19ms/step - accuracy: 0.9485 - loss: 0.1674 - val_accuracy: 0.3355 - val_loss: 9.9486\n",
      "Epoch 19/20\n",
      "\u001b[1m1250/1250\u001b[0m \u001b[32m━━━━━━━━━━━━━━━━━━━━\u001b[0m\u001b[37m\u001b[0m \u001b[1m25s\u001b[0m 20ms/step - accuracy: 0.9520 - loss: 0.1575 - val_accuracy: 0.3335 - val_loss: 10.2430\n",
      "Epoch 20/20\n",
      "\u001b[1m1250/1250\u001b[0m \u001b[32m━━━━━━━━━━━━━━━━━━━━\u001b[0m\u001b[37m\u001b[0m \u001b[1m25s\u001b[0m 20ms/step - accuracy: 0.9485 - loss: 0.1687 - val_accuracy: 0.3352 - val_loss: 10.2299\n"
     ]
    }
   ],
   "source": [
    "# Train the model\n",
    "history = model.fit(\n",
    "    x_train_split, y_train_split,  # Training data\n",
    "    epochs=20,  # Number of epochs\n",
    "    batch_size=32,  # Batch size for training\n",
    "    validation_data=(x_val_split, y_val_split),  # Validation data\n",
    "    verbose=1  # Show progress during training\n",
    ")"
   ]
  },
  {
   "cell_type": "markdown",
   "id": "b48615c26b99d2e9",
   "metadata": {
    "collapsed": false
   },
   "source": [
    "### Task 3b: Accuracy and other relevant metrics on the test set\n",
    "\n",
    "- Report the accuracy of your model on the test set.\n",
    "- While accuracy is a good metric, there are many other ways to numerically evaluate a model. Report at least one other metric, and explain what it measures and how it is calculated.\n",
    "\n",
    "- <b>Accuracy:</b> ______\n",
    "- <b>Other metric:</b> ______\n",
    "- <b>Reason for selection:</b> _____\n",
    "- <b>Value of metric:</b> ______\n",
    "- <b>Interpretation of metric value:</b> ______"
   ]
  },
  {
   "cell_type": "code",
   "execution_count": 85,
   "id": "8d30eef3",
   "metadata": {},
   "outputs": [
    {
     "name": "stdout",
     "output_type": "stream",
     "text": [
      "\u001b[1m313/313\u001b[0m \u001b[32m━━━━━━━━━━━━━━━━━━━━\u001b[0m\u001b[37m\u001b[0m \u001b[1m2s\u001b[0m 6ms/step\n",
      "               precision    recall  f1-score   support\n",
      "\n",
      "        apple       0.72      0.61      0.66       100\n",
      "aquarium_fish       0.44      0.55      0.49       100\n",
      "         baby       0.26      0.27      0.26       100\n",
      "         bear       0.20      0.23      0.22       100\n",
      "       beaver       0.12      0.12      0.12       100\n",
      "          bed       0.29      0.26      0.28       100\n",
      "          bee       0.46      0.38      0.42       100\n",
      "       beetle       0.48      0.41      0.44       100\n",
      "      bicycle       0.47      0.48      0.47       100\n",
      "       bottle       0.45      0.51      0.48       100\n",
      "         bowl       0.19      0.14      0.16       100\n",
      "          boy       0.28      0.15      0.20       100\n",
      "       bridge       0.39      0.47      0.43       100\n",
      "          bus       0.35      0.21      0.26       100\n",
      "    butterfly       0.35      0.21      0.26       100\n",
      "        camel       0.19      0.23      0.21       100\n",
      "          can       0.44      0.37      0.40       100\n",
      "       castle       0.55      0.61      0.58       100\n",
      "  caterpillar       0.33      0.35      0.34       100\n",
      "       cattle       0.44      0.24      0.31       100\n",
      "        chair       0.81      0.63      0.71       100\n",
      "   chimpanzee       0.41      0.56      0.47       100\n",
      "        clock       0.24      0.34      0.28       100\n",
      "        cloud       0.49      0.69      0.57       100\n",
      "    cockroach       0.59      0.58      0.59       100\n",
      "        couch       0.27      0.17      0.21       100\n",
      "         crab       0.33      0.29      0.31       100\n",
      "    crocodile       0.32      0.30      0.31       100\n",
      "          cup       0.55      0.51      0.53       100\n",
      "     dinosaur       0.51      0.30      0.38       100\n",
      "      dolphin       0.32      0.29      0.31       100\n",
      "     elephant       0.31      0.45      0.37       100\n",
      "     flatfish       0.31      0.35      0.33       100\n",
      "       forest       0.38      0.40      0.39       100\n",
      "          fox       0.27      0.37      0.31       100\n",
      "         girl       0.17      0.13      0.15       100\n",
      "      hamster       0.26      0.44      0.32       100\n",
      "        house       0.38      0.27      0.32       100\n",
      "     kangaroo       0.17      0.17      0.17       100\n",
      "     keyboard       0.44      0.47      0.45       100\n",
      "         lamp       0.34      0.36      0.35       100\n",
      "   lawn_mower       0.72      0.58      0.64       100\n",
      "      leopard       0.38      0.33      0.35       100\n",
      "         lion       0.31      0.49      0.38       100\n",
      "       lizard       0.16      0.14      0.15       100\n",
      "      lobster       0.34      0.16      0.22       100\n",
      "          man       0.27      0.16      0.20       100\n",
      "   maple_tree       0.53      0.47      0.50       100\n",
      "   motorcycle       0.67      0.62      0.65       100\n",
      "     mountain       0.57      0.46      0.51       100\n",
      "        mouse       0.11      0.08      0.09       100\n",
      "     mushroom       0.26      0.27      0.26       100\n",
      "     oak_tree       0.55      0.39      0.46       100\n",
      "       orange       0.56      0.68      0.62       100\n",
      "       orchid       0.47      0.60      0.53       100\n",
      "        otter       0.11      0.13      0.12       100\n",
      "    palm_tree       0.60      0.33      0.43       100\n",
      "         pear       0.45      0.41      0.43       100\n",
      " pickup_truck       0.48      0.43      0.45       100\n",
      "    pine_tree       0.38      0.27      0.31       100\n",
      "        plain       0.69      0.70      0.70       100\n",
      "        plate       0.52      0.46      0.49       100\n",
      "        poppy       0.44      0.59      0.50       100\n",
      "    porcupine       0.36      0.33      0.34       100\n",
      "       possum       0.12      0.11      0.12       100\n",
      "       rabbit       0.20      0.25      0.22       100\n",
      "      raccoon       0.26      0.19      0.22       100\n",
      "          ray       0.25      0.27      0.26       100\n",
      "         road       0.65      0.64      0.65       100\n",
      "       rocket       0.38      0.57      0.45       100\n",
      "         rose       0.43      0.42      0.42       100\n",
      "          sea       0.53      0.75      0.62       100\n",
      "         seal       0.14      0.10      0.11       100\n",
      "        shark       0.27      0.44      0.33       100\n",
      "        shrew       0.23      0.18      0.20       100\n",
      "        skunk       0.65      0.66      0.66       100\n",
      "   skyscraper       0.54      0.73      0.62       100\n",
      "        snail       0.16      0.14      0.15       100\n",
      "        snake       0.15      0.17      0.16       100\n",
      "       spider       0.38      0.26      0.31       100\n",
      "     squirrel       0.14      0.22      0.17       100\n",
      "    streetcar       0.34      0.45      0.39       100\n",
      "    sunflower       0.63      0.79      0.70       100\n",
      " sweet_pepper       0.31      0.29      0.30       100\n",
      "        table       0.24      0.20      0.22       100\n",
      "         tank       0.52      0.45      0.48       100\n",
      "    telephone       0.53      0.48      0.50       100\n",
      "   television       0.39      0.47      0.42       100\n",
      "        tiger       0.47      0.36      0.41       100\n",
      "      tractor       0.45      0.40      0.42       100\n",
      "        train       0.30      0.23      0.26       100\n",
      "        trout       0.41      0.53      0.46       100\n",
      "        tulip       0.36      0.31      0.33       100\n",
      "       turtle       0.16      0.08      0.11       100\n",
      "     wardrobe       0.52      0.68      0.59       100\n",
      "        whale       0.45      0.48      0.46       100\n",
      "  willow_tree       0.26      0.41      0.32       100\n",
      "         wolf       0.29      0.40      0.34       100\n",
      "        woman       0.19      0.23      0.21       100\n",
      "         worm       0.34      0.28      0.31       100\n",
      "\n",
      "     accuracy                           0.38     10000\n",
      "    macro avg       0.38      0.38      0.37     10000\n",
      " weighted avg       0.38      0.38      0.37     10000\n",
      "\n"
     ]
    }
   ],
   "source": [
    "from sklearn.metrics import classification_report\n",
    "\n",
    "# Predict classes for test data\n",
    "y_pred_classes = np.argmax(baseline_cnn.predict(x_test_normalized), axis=1)\n",
    "y_true_classes = np.argmax(y_test_one_hot, axis=1)\n",
    "\n",
    "# Generate a classification report\n",
    "report = classification_report(y_true_classes, y_pred_classes, target_names=class_names)\n",
    "\n",
    "print(report)"
   ]
  },
  {
   "cell_type": "markdown",
   "id": "23714e16",
   "metadata": {},
   "source": [
    "<b>Accuracy:</b>\n",
    "38.39%\n",
    "This metric indicates the percentage of correct predictions made by the model out of all test samples.\n",
    "\n",
    "<b>Other Metric:</b>\n",
    "F1-Score\n",
    "\n",
    "<b>Reason for Selection:</b>\n",
    "The F1-Score balances precision (the proportion of true positive predictions among all positive predictions) and recall (the proportion of true positives among all actual positives). It is particularly useful when dealing with imbalanced datasets or multiple classes, as it provides a single measure of a model's classification ability.\n",
    "\n",
    "<b>Value of Metric:</b>\n",
    "[To calculate, use the code provided below.]\n",
    "\n",
    "<b>Interpretation of Metric Value:</b>\n",
    "A higher F1-Score (closer to 1) indicates better performance in correctly identifying positive classes. A lower value suggests the model struggles to balance precision and recall."
   ]
  },
  {
   "cell_type": "markdown",
   "id": "58d2d836d4e8ce99",
   "metadata": {
    "collapsed": false
   },
   "source": [
    "### Task 3c: Visualize the model's learning\n",
    "\n",
    "- Plot the training accuracy and validation accuracy with respect to epochs.\n",
    "- Select an image that the model correctly classified in the test set, and an image that the model incorrectly classified in the test set. Plot the images and report the model's classification probabilities for each.\n",
    "- Briefly discuss the results. What do the plots show? Do the results make sense? What do the classification probabilities indicate?"
   ]
  },
  {
   "cell_type": "code",
   "execution_count": 91,
   "id": "ddbcef10",
   "metadata": {},
   "outputs": [
    {
     "data": {
      "image/png": "[encoded data removed]",
      "text/plain": [
       "<Figure size 1000x500 with 1 Axes>"
      ]
     },
     "metadata": {},
     "output_type": "display_data"
    }
   ],
   "source": [
    "# 1. Plot Training and Validation Accuracy\n",
    "\n",
    "import matplotlib.pyplot as plt\n",
    "\n",
    "# Plot accuracy\n",
    "plt.figure(figsize=(10, 5))\n",
    "plt.plot(history.history['accuracy'], label='Training Accuracy')\n",
    "plt.plot(history.history['val_accuracy'], label='Validation Accuracy')\n",
    "plt.title('Training and Validation Accuracy')\n",
    "plt.xlabel('Epochs')\n",
    "plt.ylabel('Accuracy')\n",
    "plt.legend()\n",
    "plt.show()"
   ]
  },
  {
   "cell_type": "code",
   "execution_count": 92,
   "id": "b9610dc4",
   "metadata": {},
   "outputs": [
    {
     "name": "stdout",
     "output_type": "stream",
     "text": [
      "\u001b[1m313/313\u001b[0m \u001b[32m━━━━━━━━━━━━━━━━━━━━\u001b[0m\u001b[37m\u001b[0m \u001b[1m2s\u001b[0m 6ms/step\n"
     ]
    },
    {
     "data": {
      "image/png": "[encoded data removed]",
      "text/plain": [
       "<Figure size 1000x500 with 2 Axes>"
      ]
     },
     "metadata": {},
     "output_type": "display_data"
    },
    {
     "name": "stdout",
     "output_type": "stream",
     "text": [
      "Correct Prediction Probabilities: [0. 0. 0. 0. 0. 0. 0. 0. 0. 0. 0. 0. 0. 0. 0. 0. 0. 0. 0. 0. 0. 0. 0. 0.\n",
      " 0. 0. 0. 0. 0. 0. 0. 0. 0. 0. 0. 0. 0. 0. 0. 0. 1. 0. 0. 0. 0. 0. 0. 0.\n",
      " 0. 0. 0. 0. 0. 0. 0. 0. 0. 0. 0. 0. 0. 0. 0. 0. 0. 0. 0. 0. 0. 0. 0. 0.\n",
      " 0. 0. 0. 0. 0. 0. 0. 0. 0. 0. 0. 0. 0. 0. 0. 0. 0. 0. 0. 0. 0. 0. 0. 0.\n",
      " 0. 0. 0. 0.]\n",
      "Incorrect Prediction Probabilities: [0.000000e+00 0.000000e+00 0.000000e+00 0.000000e+00 0.000000e+00\n",
      " 0.000000e+00 0.000000e+00 0.000000e+00 0.000000e+00 0.000000e+00\n",
      " 0.000000e+00 0.000000e+00 0.000000e+00 0.000000e+00 0.000000e+00\n",
      " 0.000000e+00 0.000000e+00 0.000000e+00 0.000000e+00 0.000000e+00\n",
      " 0.000000e+00 0.000000e+00 0.000000e+00 0.000000e+00 0.000000e+00\n",
      " 0.000000e+00 0.000000e+00 0.000000e+00 0.000000e+00 0.000000e+00\n",
      " 0.000000e+00 0.000000e+00 0.000000e+00 0.000000e+00 0.000000e+00\n",
      " 0.000000e+00 0.000000e+00 0.000000e+00 0.000000e+00 7.684711e-33\n",
      " 0.000000e+00 0.000000e+00 0.000000e+00 0.000000e+00 0.000000e+00\n",
      " 0.000000e+00 0.000000e+00 0.000000e+00 0.000000e+00 0.000000e+00\n",
      " 0.000000e+00 0.000000e+00 0.000000e+00 0.000000e+00 0.000000e+00\n",
      " 0.000000e+00 0.000000e+00 0.000000e+00 0.000000e+00 0.000000e+00\n",
      " 0.000000e+00 0.000000e+00 0.000000e+00 0.000000e+00 0.000000e+00\n",
      " 0.000000e+00 0.000000e+00 0.000000e+00 0.000000e+00 0.000000e+00\n",
      " 0.000000e+00 0.000000e+00 0.000000e+00 0.000000e+00 0.000000e+00\n",
      " 0.000000e+00 0.000000e+00 0.000000e+00 0.000000e+00 0.000000e+00\n",
      " 0.000000e+00 0.000000e+00 0.000000e+00 0.000000e+00 0.000000e+00\n",
      " 0.000000e+00 1.000000e+00 0.000000e+00 0.000000e+00 0.000000e+00\n",
      " 0.000000e+00 0.000000e+00 0.000000e+00 0.000000e+00 0.000000e+00\n",
      " 0.000000e+00 0.000000e+00 0.000000e+00 0.000000e+00 0.000000e+00]\n"
     ]
    }
   ],
   "source": [
    "import numpy as np\n",
    "\n",
    "# Predict probabilities for the test set\n",
    "predictions = baseline_cnn.predict(x_test)\n",
    "predicted_classes = np.argmax(predictions, axis=1)\n",
    "true_classes = np.argmax(y_test_one_hot, axis=1)\n",
    "\n",
    "# Find indices for correct and incorrect predictions\n",
    "correct_indices = np.where(predicted_classes == true_classes)[0]\n",
    "incorrect_indices = np.where(predicted_classes != true_classes)[0]\n",
    "\n",
    "# Select one example from each\n",
    "correct_index = correct_indices[0]\n",
    "incorrect_index = incorrect_indices[0]\n",
    "\n",
    "# Visualize the correct prediction\n",
    "plt.figure(figsize=(10, 5))\n",
    "\n",
    "# Correctly classified image\n",
    "plt.subplot(1, 2, 1)\n",
    "plt.imshow(x_test[correct_index])\n",
    "plt.title(f\"Correctly Classified\\nTrue: {class_names[true_classes[correct_index]]}\\nPred: {class_names[predicted_classes[correct_index]]}\")\n",
    "plt.axis('off')\n",
    "\n",
    "# Incorrectly classified image\n",
    "plt.subplot(1, 2, 2)\n",
    "plt.imshow(x_test[incorrect_index])\n",
    "plt.title(f\"Incorrectly Classified\\nTrue: {class_names[true_classes[incorrect_index]]}\\nPred: {class_names[predicted_classes[incorrect_index]]}\")\n",
    "plt.axis('off')\n",
    "\n",
    "plt.show()\n",
    "\n",
    "# Print model probabilities for each case\n",
    "print(f\"Correct Prediction Probabilities: {predictions[correct_index]}\")\n",
    "print(f\"Incorrect Prediction Probabilities: {predictions[incorrect_index]}\")"
   ]
  },
  {
   "cell_type": "markdown",
   "id": "06cc3859",
   "metadata": {},
   "source": [
    "<b>> Brief Discussion:</b>\n",
    "\n",
    "Training vs. Validation Accuracy Plot\n",
    "The plot shows how well the model performs on the training and validation data over epochs. Divergence between the two curves might indicate overfitting or underfitting.\n",
    "\n",
    "Correctly and Incorrectly Classified Images\n",
    "The correctly classified example demonstrates the model’s ability to generalize well to unseen data.\n",
    "The incorrectly classified example may highlight areas where the model struggles, such as ambiguity in class features.\n",
    "\n",
    "Classification Probabilities\n",
    "These indicate the model's confidence in each class. Higher confidence for the correct class suggests the model is confident in its prediction, while lower confidence or high values for incorrect classes may suggest difficulty in distinguishing certain features."
   ]
  },
  {
   "cell_type": "markdown",
   "id": "a648758ebea0561d",
   "metadata": {
    "collapsed": false
   },
   "source": [
    "## Task 4: Model Enhancement (Complete or Incomplete)\n",
    "### Task 4a: Implementation of at least one advanced technique\n",
    "\n",
    "- Now it's time to improve your model. Implement at least one technique to improve your model's performance. You can use any of the techniques we have covered in class, or you can use a technique that we haven't covered. If you need inspiration, you can refer to the [Keras documentation](https://keras.io/).\n",
    "- Explain the technique you used and why you chose it.\n",
    "- If you used a technique that requires tuning, explain how you selected the values for the hyperparameters."
   ]
  },
  {
   "cell_type": "markdown",
   "id": "110d0c71",
   "metadata": {},
   "source": [
    "To achieve the best results, I recommend combining multiple techniques to improve the model's performance on the CIFAR-100 dataset. Here's the prioritized combination:\n",
    "\n",
    "1. Data Augmentation\n",
    "Data augmentation introduces variety into the training set, helping the model generalize better. It is particularly effective for small datasets like CIFAR-100.\n",
    "Why: Helps prevent overfitting and improves model robustness.\n",
    "2. Dropout\n",
    "Dropout helps prevent overfitting by randomly \"dropping out\" neurons during training.\n",
    "Why: Improves generalization by reducing dependency on specific neurons.\n",
    "3. Batch Normalization\n",
    "Batch normalization normalizes activations within a layer, accelerating convergence and improving model stability.\n",
    "Why: Leads to better and faster training.\n",
    "4. Learning Rate Scheduling\n",
    "Dynamically reducing the learning rate can fine-tune the model as it trains.\n",
    "Why: Helps the optimizer make smaller updates as it converges, improving performance.\n",
    "Implementation Strategy\n",
    "Use data augmentation during training to increase data diversity.\n",
    "Integrate dropout after each convolution and dense layer to reduce overfitting.\n",
    "Add batch normalization after activation functions to stabilize training.\n",
    "Implement learning rate scheduling to refine training progress.\n",
    "This combination strikes a balance between improving training efficiency and ensuring robustness.\n"
   ]
  },
  {
   "cell_type": "code",
   "execution_count": 101,
   "id": "f3659ac83122567f",
   "metadata": {
    "collapsed": false
   },
   "outputs": [],
   "source": [
    "from tensorflow.keras.preprocessing.image import ImageDataGenerator\n",
    "\n",
    "# Initialize ImageDataGenerator for augmentation\n",
    "datagen = ImageDataGenerator(\n",
    "    rotation_range=15,      # Randomly rotate images within 15 degrees\n",
    "    width_shift_range=0.1,  # Shift image horizontally by 10%\n",
    "    height_shift_range=0.1, # Shift image vertically by 10%\n",
    "    horizontal_flip=True    # Randomly flip images horizontally\n",
    ")\n",
    "\n",
    "# Fit the data generator on the training data\n",
    "datagen.fit(x_train_normalized)\n"
   ]
  },
  {
   "cell_type": "code",
   "execution_count": 102,
   "id": "aee8788c",
   "metadata": {},
   "outputs": [
    {
     "name": "stderr",
     "output_type": "stream",
     "text": [
      "c:\\Users\\user\\.conda\\envs\\dsi_participant3\\lib\\site-packages\\keras\\src\\layers\\convolutional\\base_conv.py:107: UserWarning: Do not pass an `input_shape`/`input_dim` argument to a layer. When using Sequential models, prefer using an `Input(shape)` object as the first layer in the model instead.\n",
      "  super().__init__(activity_regularizer=activity_regularizer, **kwargs)\n"
     ]
    }
   ],
   "source": [
    "# Dropout layers\n",
    "from keras.layers import Dropout\n",
    "\n",
    "model1 = Sequential([\n",
    "    Conv2D(32, (3, 3), activation='relu', padding='same', input_shape=(32, 32, 3)),\n",
    "    MaxPooling2D((2, 2)),\n",
    "    Dropout(0.25),  # Dropout\n",
    "\n",
    "    Conv2D(64, (3, 3), activation='relu', padding='same'),\n",
    "    MaxPooling2D((2, 2)),\n",
    "    Dropout(0.25),\n",
    "\n",
    "    Flatten(),\n",
    "    Dense(256, activation='relu'),\n",
    "    Dropout(0.5),  # Dropout\n",
    "    Dense(100, activation='softmax')\n",
    "])"
   ]
  },
  {
   "cell_type": "code",
   "execution_count": 103,
   "id": "d7100b7b",
   "metadata": {},
   "outputs": [],
   "source": [
    "# Learning rate Scheduler\n",
    "from keras.callbacks import LearningRateScheduler\n",
    "\n",
    "def lr_schedule(epoch):\n",
    "    return 0.001 * (0.1 ** (epoch // 10))  # Reduce LR every 10 epochs\n",
    "\n",
    "lr_callback = LearningRateScheduler(lr_schedule)"
   ]
  },
  {
   "cell_type": "code",
   "execution_count": 105,
   "id": "c0f5fc66",
   "metadata": {},
   "outputs": [],
   "source": [
    "# Batch Normalization\n",
    "from keras.layers import BatchNormalization\n",
    "\n",
    "model2 = Sequential([\n",
    "    Conv2D(32, (3, 3), activation='relu', padding='same', input_shape=(32, 32, 3)),\n",
    "    BatchNormalization(),  # Batch normalization\n",
    "    MaxPooling2D((2, 2)),\n",
    "\n",
    "    Conv2D(64, (3, 3), activation='relu', padding='same'),\n",
    "    BatchNormalization(),  # Batch normalization\n",
    "    MaxPooling2D((2, 2)),\n",
    "\n",
    "    Flatten(),\n",
    "    Dense(256, activation='relu'),\n",
    "    BatchNormalization(),  # Batch normalization\n",
    "    Dense(100, activation='softmax')\n",
    "])"
   ]
  },
  {
   "cell_type": "markdown",
   "id": "fa20e423",
   "metadata": {},
   "source": [
    "Technique Used:\n",
    "I combined the following techniques to improve the performance of the model:\n",
    "\n",
    "1) Data Augmentation:\n",
    "\n",
    "Why Chosen: Data augmentation artificially increases the size of the training set by generating transformed versions of the existing images. This helps prevent overfitting, especially when working with a relatively small dataset like CIFAR-100. By introducing random transformations (rotation, translation, flipping), the model learns to generalize better and be more robust to variations in image patterns.\n",
    "\n",
    "- Transformation Choices:\n",
    "\n",
    "   - Rotation: Slight rotations of the images (up to 15 degrees) to allow the model to learn invariance to small rotations.\n",
    "   - Width/Height Shifts: Shifting the image horizontally or vertically by 10% to simulate translations.\n",
    "   - Horizontal Flip: Randomly flipping images to increase variability.\n",
    "\n",
    "2) Dropout:\n",
    "\n",
    "- Why Chosen: Dropout is a regularization technique that randomly disables a fraction of neurons during training, which helps prevent overfitting. By dropping random neurons during training, the model doesn't rely too heavily on specific features, improving its generalization ability.\n",
    "\n",
    "- Dropout Values:\n",
    "\n",
    "   - 0.25 in convolutional layers: Prevents overfitting in the early layers while allowing enough complexity to capture image features.\n",
    "   - 0.5 in the dense layer: Stronger regularization to avoid overfitting in the fully connected layers.\n",
    "\n",
    "3) Batch Normalization:\n",
    "\n",
    "- Why Chosen: Batch normalization normalizes the activations within a layer, which helps stabilize training by reducing internal covariate shift. It also speeds up convergence by providing better initialization of parameters.\n",
    "\n",
    "- Placement of Batch Normalization: I added batch normalization layers after each convolutional and dense layer to normalize activations, making the training process smoother.\n",
    "\n",
    "4) Learning Rate Scheduling:\n",
    "\n",
    "- Why Chosen: Learning rate scheduling helps adjust the learning rate during training. By reducing the learning rate after certain epochs, the model can converge more smoothly and avoid overshooting during the latter stages of training.\n",
    "\n",
    "- Hyperparameters for Scheduling:\n",
    "\n",
    "   - Initial Learning Rate: Set at 0.001 to start with a moderately small value to prevent instability.\n",
    "   - Decay: The learning rate is reduced by a factor of 10 every 10 epochs (after each set of 10 epochs), allowing the model to fine-tune its parameters as it approaches convergence."
   ]
  },
  {
   "cell_type": "markdown",
   "id": "093bbdf8",
   "metadata": {},
   "source": [
    "Hyperparameter Tuning:\n",
    "\n",
    "For the techniques used, the following hyperparameters were either pre-defined or tuned for the context:\n",
    "\n",
    "1) Dropout Rates:\n",
    "\n",
    "I used common values of 0.25 and 0.5 for dropout. These are widely used and considered a good starting point in practice. A higher dropout rate can cause underfitting, while too low a rate may not prevent overfitting effectively.\n",
    "\n",
    "2) Learning Rate Decay:\n",
    "\n",
    " -Initial Learning Rate: Set to 0.001 based on common practice for Adam optimizer, which is often a good default.\n",
    " -Decay Factor: A factor of 10 was chosen to gradually reduce the learning rate every 10 epochs. This is a reasonable choice for a moderate   -reduction in the learning rate, ensuring gradual fine-tuning without causing abrupt changes.\n",
    "\n",
    "3) Data Augmentation Parameters:\n",
    "\n",
    "The values used for rotation (15°), width/height shifts (10%), and flipping were chosen as standard values based on research and common practices for similar datasets like CIFAR-100.\n",
    "\n",
    "Summary of Technique Choice:\n",
    "\n",
    "I selected a combination of Data Augmentation, Dropout, Batch Normalization, and Learning Rate Scheduling to improve the model's performance based on the following reasons:\n",
    "\n",
    " - Data Augmentation ensures the model generalizes well by seeing varied images.\n",
    " - Dropout prevents the model from overfitting and helps it learn better generalizable patterns.\n",
    " - Batch Normalization stabilizes the learning process and accelerates convergence.\n",
    " - Learning Rate Scheduling allows for more precise training by reducing the learning rate as the model converges.\n",
    "\n",
    "This combination of techniques has been shown to work effectively in image classification tasks, especially with deep convolutional neural networks (CNNs) on datasets like CIFAR-100."
   ]
  },
  {
   "cell_type": "markdown",
   "id": "d9467a483a1dd5d3",
   "metadata": {
    "collapsed": false
   },
   "source": [
    "### Task 4b: Evaluation of the enhanced model\n",
    "\n",
    "- Re-train your model using the same number of epochs as before.\n",
    "- Compare the accuracy and other selected metric on the test set to the results you obtained before.\n",
    "- As before, plot the training accuracy and validation accuracy with respect to epochs, and select an image that the model correctly classified in the test set, and an image that the model incorrectly classified in the test set. Plot the images and report the model's classification probabilities for each."
   ]
  },
  {
   "cell_type": "markdown",
   "id": "57c42e3c",
   "metadata": {},
   "source": [
    "To retrain your model using the techniques we discussed (data augmentation and dropout) and compare the results, follow the steps below."
   ]
  },
  {
   "cell_type": "code",
   "execution_count": 108,
   "id": "7c4701b36dc8fc55",
   "metadata": {
    "collapsed": false
   },
   "outputs": [
    {
     "name": "stdout",
     "output_type": "stream",
     "text": [
      "Epoch 1/20\n"
     ]
    },
    {
     "name": "stderr",
     "output_type": "stream",
     "text": [
      "c:\\Users\\user\\.conda\\envs\\dsi_participant3\\lib\\site-packages\\keras\\src\\trainers\\data_adapters\\py_dataset_adapter.py:121: UserWarning: Your `PyDataset` class should call `super().__init__(**kwargs)` in its constructor. `**kwargs` can include `workers`, `use_multiprocessing`, `max_queue_size`. Do not pass these arguments to `fit()`, as they will be ignored.\n",
      "  self._warn_if_super_not_called()\n"
     ]
    },
    {
     "name": "stdout",
     "output_type": "stream",
     "text": [
      "\u001b[1m1563/1563\u001b[0m \u001b[32m━━━━━━━━━━━━━━━━━━━━\u001b[0m\u001b[37m\u001b[0m \u001b[1m56s\u001b[0m 35ms/step - accuracy: 0.0480 - loss: 4.2988 - val_accuracy: 0.1689 - val_loss: 3.5089\n",
      "Epoch 2/20\n",
      "\u001b[1m1563/1563\u001b[0m \u001b[32m━━━━━━━━━━━━━━━━━━━━\u001b[0m\u001b[37m\u001b[0m \u001b[1m53s\u001b[0m 34ms/step - accuracy: 0.1356 - loss: 3.6658 - val_accuracy: 0.2177 - val_loss: 3.2075\n",
      "Epoch 3/20\n",
      "\u001b[1m1563/1563\u001b[0m \u001b[32m━━━━━━━━━━━━━━━━━━━━\u001b[0m\u001b[37m\u001b[0m \u001b[1m52s\u001b[0m 33ms/step - accuracy: 0.1704 - loss: 3.4618 - val_accuracy: 0.2608 - val_loss: 3.0841\n",
      "Epoch 4/20\n",
      "\u001b[1m1563/1563\u001b[0m \u001b[32m━━━━━━━━━━━━━━━━━━━━\u001b[0m\u001b[37m\u001b[0m \u001b[1m50s\u001b[0m 32ms/step - accuracy: 0.1922 - loss: 3.3357 - val_accuracy: 0.2847 - val_loss: 2.8695\n",
      "Epoch 5/20\n",
      "\u001b[1m1563/1563\u001b[0m \u001b[32m━━━━━━━━━━━━━━━━━━━━\u001b[0m\u001b[37m\u001b[0m \u001b[1m50s\u001b[0m 32ms/step - accuracy: 0.2121 - loss: 3.2313 - val_accuracy: 0.3047 - val_loss: 2.7869\n",
      "Epoch 6/20\n",
      "\u001b[1m1563/1563\u001b[0m \u001b[32m━━━━━━━━━━━━━━━━━━━━\u001b[0m\u001b[37m\u001b[0m \u001b[1m51s\u001b[0m 33ms/step - accuracy: 0.2208 - loss: 3.1542 - val_accuracy: 0.3276 - val_loss: 2.6757\n",
      "Epoch 7/20\n",
      "\u001b[1m1563/1563\u001b[0m \u001b[32m━━━━━━━━━━━━━━━━━━━━\u001b[0m\u001b[37m\u001b[0m \u001b[1m50s\u001b[0m 32ms/step - accuracy: 0.2362 - loss: 3.0999 - val_accuracy: 0.3382 - val_loss: 2.6491\n",
      "Epoch 8/20\n",
      "\u001b[1m1563/1563\u001b[0m \u001b[32m━━━━━━━━━━━━━━━━━━━━\u001b[0m\u001b[37m\u001b[0m \u001b[1m51s\u001b[0m 32ms/step - accuracy: 0.2449 - loss: 3.0711 - val_accuracy: 0.3542 - val_loss: 2.5453\n",
      "Epoch 9/20\n",
      "\u001b[1m1563/1563\u001b[0m \u001b[32m━━━━━━━━━━━━━━━━━━━━\u001b[0m\u001b[37m\u001b[0m \u001b[1m51s\u001b[0m 33ms/step - accuracy: 0.2480 - loss: 3.0304 - val_accuracy: 0.3673 - val_loss: 2.5215\n",
      "Epoch 10/20\n",
      "\u001b[1m1563/1563\u001b[0m \u001b[32m━━━━━━━━━━━━━━━━━━━━\u001b[0m\u001b[37m\u001b[0m \u001b[1m51s\u001b[0m 33ms/step - accuracy: 0.2593 - loss: 3.0064 - val_accuracy: 0.3704 - val_loss: 2.5235\n",
      "Epoch 11/20\n",
      "\u001b[1m1563/1563\u001b[0m \u001b[32m━━━━━━━━━━━━━━━━━━━━\u001b[0m\u001b[37m\u001b[0m \u001b[1m51s\u001b[0m 33ms/step - accuracy: 0.2614 - loss: 2.9764 - val_accuracy: 0.3903 - val_loss: 2.4154\n",
      "Epoch 12/20\n",
      "\u001b[1m1563/1563\u001b[0m \u001b[32m━━━━━━━━━━━━━━━━━━━━\u001b[0m\u001b[37m\u001b[0m \u001b[1m51s\u001b[0m 33ms/step - accuracy: 0.2647 - loss: 2.9411 - val_accuracy: 0.3664 - val_loss: 2.4655\n",
      "Epoch 13/20\n",
      "\u001b[1m1563/1563\u001b[0m \u001b[32m━━━━━━━━━━━━━━━━━━━━\u001b[0m\u001b[37m\u001b[0m \u001b[1m52s\u001b[0m 33ms/step - accuracy: 0.2703 - loss: 2.9248 - val_accuracy: 0.3840 - val_loss: 2.4567\n",
      "Epoch 14/20\n",
      "\u001b[1m1563/1563\u001b[0m \u001b[32m━━━━━━━━━━━━━━━━━━━━\u001b[0m\u001b[37m\u001b[0m \u001b[1m51s\u001b[0m 33ms/step - accuracy: 0.2730 - loss: 2.9039 - val_accuracy: 0.3934 - val_loss: 2.3683\n",
      "Epoch 15/20\n",
      "\u001b[1m1563/1563\u001b[0m \u001b[32m━━━━━━━━━━━━━━━━━━━━\u001b[0m\u001b[37m\u001b[0m \u001b[1m1197s\u001b[0m 766ms/step - accuracy: 0.2759 - loss: 2.8884 - val_accuracy: 0.3995 - val_loss: 2.3551\n",
      "Epoch 16/20\n",
      "\u001b[1m1563/1563\u001b[0m \u001b[32m━━━━━━━━━━━━━━━━━━━━\u001b[0m\u001b[37m\u001b[0m \u001b[1m53s\u001b[0m 34ms/step - accuracy: 0.2765 - loss: 2.8763 - val_accuracy: 0.3965 - val_loss: 2.3759\n",
      "Epoch 17/20\n",
      "\u001b[1m1563/1563\u001b[0m \u001b[32m━━━━━━━━━━━━━━━━━━━━\u001b[0m\u001b[37m\u001b[0m \u001b[1m51s\u001b[0m 33ms/step - accuracy: 0.2832 - loss: 2.8530 - val_accuracy: 0.4076 - val_loss: 2.2752\n",
      "Epoch 18/20\n",
      "\u001b[1m1563/1563\u001b[0m \u001b[32m━━━━━━━━━━━━━━━━━━━━\u001b[0m\u001b[37m\u001b[0m \u001b[1m51s\u001b[0m 32ms/step - accuracy: 0.2852 - loss: 2.8489 - val_accuracy: 0.4141 - val_loss: 2.2770\n",
      "Epoch 19/20\n",
      "\u001b[1m1563/1563\u001b[0m \u001b[32m━━━━━━━━━━━━━━━━━━━━\u001b[0m\u001b[37m\u001b[0m \u001b[1m51s\u001b[0m 33ms/step - accuracy: 0.2893 - loss: 2.8399 - val_accuracy: 0.4146 - val_loss: 2.3409\n",
      "Epoch 20/20\n",
      "\u001b[1m1563/1563\u001b[0m \u001b[32m━━━━━━━━━━━━━━━━━━━━\u001b[0m\u001b[37m\u001b[0m \u001b[1m51s\u001b[0m 33ms/step - accuracy: 0.2915 - loss: 2.8201 - val_accuracy: 0.4154 - val_loss: 2.2724\n"
     ]
    }
   ],
   "source": [
    "model1.compile(\n",
    "    optimizer='adam',  # Choose your optimizer\n",
    "    loss='categorical_crossentropy',  # Use categorical crossentropy for multi-class classification\n",
    "    metrics=['accuracy']  # Track accuracy during training\n",
    ")\n",
    "\n",
    "# Now you can train the model\n",
    "history = model1.fit(\n",
    "    datagen.flow(x_train_normalized, y_train_one_hot, batch_size=32),  # Augmented data\n",
    "    validation_data=(x_val_split, y_val_split),  # Validation data\n",
    "    epochs=20  # Number of epochs\n",
    ")"
   ]
  },
  {
   "cell_type": "code",
   "execution_count": 110,
   "id": "8f7a232c",
   "metadata": {},
   "outputs": [
    {
     "name": "stdout",
     "output_type": "stream",
     "text": [
      "               precision    recall  f1-score   support\n",
      "\n",
      "        apple       0.62      0.73      0.67       100\n",
      "aquarium_fish       0.39      0.43      0.41       100\n",
      "         baby       0.34      0.19      0.24       100\n",
      "         bear       0.19      0.20      0.20       100\n",
      "       beaver       0.17      0.20      0.18       100\n",
      "          bed       0.35      0.44      0.39       100\n",
      "          bee       0.42      0.39      0.40       100\n",
      "       beetle       0.41      0.46      0.44       100\n",
      "      bicycle       0.30      0.45      0.36       100\n",
      "       bottle       0.67      0.37      0.48       100\n",
      "         bowl       0.38      0.13      0.19       100\n",
      "          boy       0.37      0.11      0.17       100\n",
      "       bridge       0.33      0.43      0.37       100\n",
      "          bus       0.32      0.38      0.35       100\n",
      "    butterfly       0.27      0.41      0.32       100\n",
      "        camel       0.36      0.12      0.18       100\n",
      "          can       0.36      0.36      0.36       100\n",
      "       castle       0.47      0.53      0.50       100\n",
      "  caterpillar       0.29      0.25      0.27       100\n",
      "       cattle       0.38      0.34      0.36       100\n",
      "        chair       0.72      0.62      0.67       100\n",
      "   chimpanzee       0.45      0.58      0.51       100\n",
      "        clock       0.37      0.36      0.37       100\n",
      "        cloud       0.61      0.47      0.53       100\n",
      "    cockroach       0.51      0.60      0.55       100\n",
      "        couch       0.28      0.13      0.18       100\n",
      "         crab       0.27      0.35      0.31       100\n",
      "    crocodile       0.27      0.31      0.29       100\n",
      "          cup       0.48      0.66      0.56       100\n",
      "     dinosaur       0.42      0.27      0.33       100\n",
      "      dolphin       0.29      0.35      0.32       100\n",
      "     elephant       0.28      0.38      0.32       100\n",
      "     flatfish       0.67      0.24      0.35       100\n",
      "       forest       0.27      0.46      0.34       100\n",
      "          fox       0.26      0.25      0.26       100\n",
      "         girl       0.33      0.13      0.19       100\n",
      "      hamster       0.41      0.24      0.30       100\n",
      "        house       0.37      0.28      0.32       100\n",
      "     kangaroo       0.24      0.10      0.14       100\n",
      "     keyboard       0.32      0.44      0.37       100\n",
      "         lamp       0.50      0.23      0.32       100\n",
      "   lawn_mower       0.73      0.66      0.69       100\n",
      "      leopard       0.15      0.50      0.23       100\n",
      "         lion       0.39      0.42      0.40       100\n",
      "       lizard       0.19      0.08      0.11       100\n",
      "      lobster       0.23      0.25      0.24       100\n",
      "          man       0.36      0.27      0.31       100\n",
      "   maple_tree       0.48      0.39      0.43       100\n",
      "   motorcycle       0.29      0.89      0.44       100\n",
      "     mountain       0.47      0.52      0.49       100\n",
      "        mouse       0.21      0.05      0.08       100\n",
      "     mushroom       0.50      0.22      0.31       100\n",
      "     oak_tree       0.43      0.80      0.56       100\n",
      "       orange       0.55      0.59      0.57       100\n",
      "       orchid       0.61      0.48      0.54       100\n",
      "        otter       0.16      0.08      0.11       100\n",
      "    palm_tree       0.56      0.54      0.55       100\n",
      "         pear       0.53      0.39      0.45       100\n",
      " pickup_truck       0.42      0.52      0.46       100\n",
      "    pine_tree       0.31      0.16      0.21       100\n",
      "        plain       0.71      0.66      0.68       100\n",
      "        plate       0.38      0.55      0.45       100\n",
      "        poppy       0.50      0.62      0.55       100\n",
      "    porcupine       0.39      0.26      0.31       100\n",
      "       possum       0.17      0.11      0.13       100\n",
      "       rabbit       0.31      0.11      0.16       100\n",
      "      raccoon       0.35      0.18      0.24       100\n",
      "          ray       0.31      0.41      0.35       100\n",
      "         road       0.71      0.71      0.71       100\n",
      "       rocket       0.70      0.57      0.63       100\n",
      "         rose       0.47      0.45      0.46       100\n",
      "          sea       0.61      0.59      0.60       100\n",
      "         seal       0.17      0.08      0.11       100\n",
      "        shark       0.44      0.29      0.35       100\n",
      "        shrew       0.17      0.29      0.21       100\n",
      "        skunk       0.66      0.61      0.63       100\n",
      "   skyscraper       0.72      0.63      0.67       100\n",
      "        snail       0.33      0.10      0.15       100\n",
      "        snake       0.25      0.16      0.20       100\n",
      "       spider       0.28      0.55      0.37       100\n",
      "     squirrel       0.11      0.04      0.06       100\n",
      "    streetcar       0.29      0.33      0.31       100\n",
      "    sunflower       0.66      0.76      0.71       100\n",
      " sweet_pepper       0.34      0.23      0.27       100\n",
      "        table       0.24      0.32      0.27       100\n",
      "         tank       0.51      0.50      0.51       100\n",
      "    telephone       0.36      0.41      0.38       100\n",
      "   television       0.32      0.67      0.43       100\n",
      "        tiger       0.19      0.55      0.29       100\n",
      "      tractor       0.34      0.62      0.44       100\n",
      "        train       0.37      0.13      0.19       100\n",
      "        trout       0.69      0.41      0.52       100\n",
      "        tulip       0.34      0.26      0.29       100\n",
      "       turtle       0.30      0.21      0.25       100\n",
      "     wardrobe       0.55      0.72      0.62       100\n",
      "        whale       0.36      0.62      0.46       100\n",
      "  willow_tree       0.28      0.21      0.24       100\n",
      "         wolf       0.32      0.30      0.31       100\n",
      "        woman       0.25      0.10      0.14       100\n",
      "         worm       0.41      0.29      0.34       100\n",
      "\n",
      "     accuracy                           0.38     10000\n",
      "    macro avg       0.39      0.38      0.37     10000\n",
      " weighted avg       0.39      0.38      0.37     10000\n",
      "\n"
     ]
    }
   ],
   "source": [
    "from sklearn.metrics import classification_report\n",
    "\n",
    "# Predict classes for test data\n",
    "y_pred_classes = np.argmax(model1(x_test_normalized), axis=1)\n",
    "y_true_classes = np.argmax(y_test_one_hot, axis=1)\n",
    "\n",
    "# Generate a classification report\n",
    "report = classification_report(y_true_classes, y_pred_classes, target_names=class_names)\n",
    "\n",
    "print(report)\n"
   ]
  },
  {
   "cell_type": "code",
   "execution_count": 111,
   "id": "ec0cb0cd",
   "metadata": {},
   "outputs": [
    {
     "name": "stdout",
     "output_type": "stream",
     "text": [
      "Epoch 1/20\n"
     ]
    },
    {
     "name": "stderr",
     "output_type": "stream",
     "text": [
      "c:\\Users\\user\\.conda\\envs\\dsi_participant3\\lib\\site-packages\\keras\\src\\trainers\\data_adapters\\py_dataset_adapter.py:121: UserWarning: Your `PyDataset` class should call `super().__init__(**kwargs)` in its constructor. `**kwargs` can include `workers`, `use_multiprocessing`, `max_queue_size`. Do not pass these arguments to `fit()`, as they will be ignored.\n",
      "  self._warn_if_super_not_called()\n"
     ]
    },
    {
     "name": "stdout",
     "output_type": "stream",
     "text": [
      "\u001b[1m1563/1563\u001b[0m \u001b[32m━━━━━━━━━━━━━━━━━━━━\u001b[0m\u001b[37m\u001b[0m \u001b[1m147s\u001b[0m 91ms/step - accuracy: 0.1428 - loss: 3.7734 - val_accuracy: 0.3149 - val_loss: 2.7522\n",
      "Epoch 2/20\n",
      "\u001b[1m1563/1563\u001b[0m \u001b[32m━━━━━━━━━━━━━━━━━━━━\u001b[0m\u001b[37m\u001b[0m \u001b[1m107s\u001b[0m 68ms/step - accuracy: 0.3079 - loss: 2.7821 - val_accuracy: 0.3412 - val_loss: 2.6474\n",
      "Epoch 3/20\n",
      "\u001b[1m1563/1563\u001b[0m \u001b[32m━━━━━━━━━━━━━━━━━━━━\u001b[0m\u001b[37m\u001b[0m \u001b[1m110s\u001b[0m 70ms/step - accuracy: 0.3598 - loss: 2.5131 - val_accuracy: 0.3876 - val_loss: 2.3964\n",
      "Epoch 4/20\n",
      "\u001b[1m1563/1563\u001b[0m \u001b[32m━━━━━━━━━━━━━━━━━━━━\u001b[0m\u001b[37m\u001b[0m \u001b[1m114s\u001b[0m 73ms/step - accuracy: 0.3970 - loss: 2.3424 - val_accuracy: 0.3304 - val_loss: 2.8327\n",
      "Epoch 5/20\n",
      "\u001b[1m1563/1563\u001b[0m \u001b[32m━━━━━━━━━━━━━━━━━━━━\u001b[0m\u001b[37m\u001b[0m \u001b[1m118s\u001b[0m 75ms/step - accuracy: 0.4157 - loss: 2.2273 - val_accuracy: 0.4740 - val_loss: 1.9549\n",
      "Epoch 6/20\n",
      "\u001b[1m1563/1563\u001b[0m \u001b[32m━━━━━━━━━━━━━━━━━━━━\u001b[0m\u001b[37m\u001b[0m \u001b[1m118s\u001b[0m 75ms/step - accuracy: 0.4409 - loss: 2.1290 - val_accuracy: 0.5050 - val_loss: 1.8577\n",
      "Epoch 7/20\n",
      "\u001b[1m1563/1563\u001b[0m \u001b[32m━━━━━━━━━━━━━━━━━━━━\u001b[0m\u001b[37m\u001b[0m \u001b[1m108s\u001b[0m 69ms/step - accuracy: 0.4513 - loss: 2.0678 - val_accuracy: 0.4783 - val_loss: 1.9502\n",
      "Epoch 8/20\n",
      "\u001b[1m1563/1563\u001b[0m \u001b[32m━━━━━━━━━━━━━━━━━━━━\u001b[0m\u001b[37m\u001b[0m \u001b[1m110s\u001b[0m 70ms/step - accuracy: 0.4654 - loss: 2.0058 - val_accuracy: 0.5236 - val_loss: 1.7594\n",
      "Epoch 9/20\n",
      "\u001b[1m1563/1563\u001b[0m \u001b[32m━━━━━━━━━━━━━━━━━━━━\u001b[0m\u001b[37m\u001b[0m \u001b[1m95s\u001b[0m 61ms/step - accuracy: 0.4797 - loss: 1.9363 - val_accuracy: 0.5173 - val_loss: 1.8264\n",
      "Epoch 10/20\n",
      "\u001b[1m1563/1563\u001b[0m \u001b[32m━━━━━━━━━━━━━━━━━━━━\u001b[0m\u001b[37m\u001b[0m \u001b[1m89s\u001b[0m 57ms/step - accuracy: 0.4938 - loss: 1.8898 - val_accuracy: 0.5074 - val_loss: 1.8356\n",
      "Epoch 11/20\n",
      "\u001b[1m1563/1563\u001b[0m \u001b[32m━━━━━━━━━━━━━━━━━━━━\u001b[0m\u001b[37m\u001b[0m \u001b[1m91s\u001b[0m 58ms/step - accuracy: 0.5085 - loss: 1.8387 - val_accuracy: 0.5581 - val_loss: 1.6132\n",
      "Epoch 12/20\n",
      "\u001b[1m1563/1563\u001b[0m \u001b[32m━━━━━━━━━━━━━━━━━━━━\u001b[0m\u001b[37m\u001b[0m \u001b[1m88s\u001b[0m 56ms/step - accuracy: 0.5160 - loss: 1.7924 - val_accuracy: 0.4478 - val_loss: 2.2101\n",
      "Epoch 13/20\n",
      "\u001b[1m1563/1563\u001b[0m \u001b[32m━━━━━━━━━━━━━━━━━━━━\u001b[0m\u001b[37m\u001b[0m \u001b[1m88s\u001b[0m 56ms/step - accuracy: 0.5208 - loss: 1.7571 - val_accuracy: 0.6041 - val_loss: 1.4207\n",
      "Epoch 14/20\n",
      "\u001b[1m1563/1563\u001b[0m \u001b[32m━━━━━━━━━━━━━━━━━━━━\u001b[0m\u001b[37m\u001b[0m \u001b[1m87s\u001b[0m 56ms/step - accuracy: 0.5336 - loss: 1.7238 - val_accuracy: 0.5498 - val_loss: 1.6403\n",
      "Epoch 15/20\n",
      "\u001b[1m1563/1563\u001b[0m \u001b[32m━━━━━━━━━━━━━━━━━━━━\u001b[0m\u001b[37m\u001b[0m \u001b[1m86s\u001b[0m 55ms/step - accuracy: 0.5378 - loss: 1.7024 - val_accuracy: 0.6058 - val_loss: 1.4051\n",
      "Epoch 16/20\n",
      "\u001b[1m1563/1563\u001b[0m \u001b[32m━━━━━━━━━━━━━━━━━━━━\u001b[0m\u001b[37m\u001b[0m \u001b[1m88s\u001b[0m 56ms/step - accuracy: 0.5429 - loss: 1.6813 - val_accuracy: 0.4909 - val_loss: 1.9576\n",
      "Epoch 17/20\n",
      "\u001b[1m1563/1563\u001b[0m \u001b[32m━━━━━━━━━━━━━━━━━━━━\u001b[0m\u001b[37m\u001b[0m \u001b[1m88s\u001b[0m 56ms/step - accuracy: 0.5485 - loss: 1.6466 - val_accuracy: 0.5788 - val_loss: 1.5624\n",
      "Epoch 18/20\n",
      "\u001b[1m1563/1563\u001b[0m \u001b[32m━━━━━━━━━━━━━━━━━━━━\u001b[0m\u001b[37m\u001b[0m \u001b[1m87s\u001b[0m 56ms/step - accuracy: 0.5529 - loss: 1.6292 - val_accuracy: 0.4890 - val_loss: 2.0478\n",
      "Epoch 19/20\n",
      "\u001b[1m1563/1563\u001b[0m \u001b[32m━━━━━━━━━━━━━━━━━━━━\u001b[0m\u001b[37m\u001b[0m \u001b[1m91s\u001b[0m 58ms/step - accuracy: 0.5601 - loss: 1.5968 - val_accuracy: 0.5946 - val_loss: 1.4766\n",
      "Epoch 20/20\n",
      "\u001b[1m1563/1563\u001b[0m \u001b[32m━━━━━━━━━━━━━━━━━━━━\u001b[0m\u001b[37m\u001b[0m \u001b[1m101s\u001b[0m 65ms/step - accuracy: 0.5684 - loss: 1.5681 - val_accuracy: 0.5594 - val_loss: 1.6635\n"
     ]
    }
   ],
   "source": [
    "model2.compile(\n",
    "    optimizer='adam',  # Choose your optimizer\n",
    "    loss='categorical_crossentropy',  # Use categorical crossentropy for multi-class classification\n",
    "    metrics=['accuracy']  # Track accuracy during training\n",
    ")\n",
    "\n",
    "# Now you can train the model\n",
    "history = model2.fit(\n",
    "    datagen.flow(x_train_normalized, y_train_one_hot, batch_size=32),  # Augmented data\n",
    "    validation_data=(x_val_split, y_val_split),  # Validation data\n",
    "    epochs=20  # Number of epochs\n",
    ")"
   ]
  },
  {
   "cell_type": "code",
   "execution_count": 112,
   "id": "eadfc848700215e8",
   "metadata": {
    "collapsed": false
   },
   "outputs": [
    {
     "name": "stdout",
     "output_type": "stream",
     "text": [
      "               precision    recall  f1-score   support\n",
      "\n",
      "        apple       0.90      0.47      0.62       100\n",
      "aquarium_fish       0.55      0.48      0.51       100\n",
      "         baby       0.40      0.21      0.28       100\n",
      "         bear       0.40      0.12      0.18       100\n",
      "       beaver       0.33      0.21      0.26       100\n",
      "          bed       0.66      0.40      0.50       100\n",
      "          bee       0.40      0.51      0.45       100\n",
      "       beetle       0.34      0.61      0.44       100\n",
      "      bicycle       0.28      0.77      0.41       100\n",
      "       bottle       0.81      0.51      0.63       100\n",
      "         bowl       0.30      0.22      0.25       100\n",
      "          boy       0.29      0.25      0.27       100\n",
      "       bridge       0.55      0.61      0.58       100\n",
      "          bus       0.40      0.48      0.44       100\n",
      "    butterfly       0.28      0.55      0.37       100\n",
      "        camel       0.45      0.24      0.31       100\n",
      "          can       0.44      0.57      0.50       100\n",
      "       castle       0.64      0.54      0.58       100\n",
      "  caterpillar       0.24      0.40      0.30       100\n",
      "       cattle       0.40      0.36      0.38       100\n",
      "        chair       0.68      0.79      0.73       100\n",
      "   chimpanzee       0.89      0.40      0.55       100\n",
      "        clock       0.26      0.40      0.32       100\n",
      "        cloud       0.68      0.53      0.60       100\n",
      "    cockroach       0.40      0.74      0.52       100\n",
      "        couch       0.36      0.30      0.33       100\n",
      "         crab       0.25      0.44      0.32       100\n",
      "    crocodile       0.30      0.20      0.24       100\n",
      "          cup       0.71      0.65      0.68       100\n",
      "     dinosaur       0.58      0.32      0.41       100\n",
      "      dolphin       0.45      0.49      0.47       100\n",
      "     elephant       0.75      0.30      0.43       100\n",
      "     flatfish       0.70      0.40      0.51       100\n",
      "       forest       0.26      0.59      0.37       100\n",
      "          fox       0.65      0.22      0.33       100\n",
      "         girl       0.31      0.13      0.18       100\n",
      "      hamster       0.95      0.18      0.30       100\n",
      "        house       0.44      0.47      0.46       100\n",
      "     kangaroo       0.33      0.09      0.14       100\n",
      "     keyboard       0.24      0.78      0.37       100\n",
      "         lamp       0.65      0.31      0.42       100\n",
      "   lawn_mower       0.86      0.62      0.72       100\n",
      "      leopard       0.18      0.42      0.25       100\n",
      "         lion       0.52      0.13      0.21       100\n",
      "       lizard       0.18      0.10      0.13       100\n",
      "      lobster       0.16      0.36      0.22       100\n",
      "          man       0.45      0.17      0.25       100\n",
      "   maple_tree       0.48      0.60      0.53       100\n",
      "   motorcycle       0.34      0.91      0.50       100\n",
      "     mountain       0.59      0.68      0.63       100\n",
      "        mouse       0.24      0.09      0.13       100\n",
      "     mushroom       0.54      0.51      0.52       100\n",
      "     oak_tree       0.54      0.74      0.62       100\n",
      "       orange       0.69      0.61      0.65       100\n",
      "       orchid       0.55      0.60      0.57       100\n",
      "        otter       0.15      0.04      0.06       100\n",
      "    palm_tree       0.93      0.51      0.66       100\n",
      "         pear       0.73      0.33      0.46       100\n",
      " pickup_truck       0.73      0.41      0.53       100\n",
      "    pine_tree       0.53      0.41      0.46       100\n",
      "        plain       0.77      0.74      0.76       100\n",
      "        plate       0.35      0.78      0.48       100\n",
      "        poppy       0.46      0.68      0.55       100\n",
      "    porcupine       0.43      0.46      0.45       100\n",
      "       possum       0.35      0.11      0.17       100\n",
      "       rabbit       0.51      0.18      0.27       100\n",
      "      raccoon       0.53      0.26      0.35       100\n",
      "          ray       0.59      0.33      0.42       100\n",
      "         road       0.89      0.70      0.78       100\n",
      "       rocket       0.82      0.64      0.72       100\n",
      "         rose       0.52      0.53      0.52       100\n",
      "          sea       0.68      0.62      0.65       100\n",
      "         seal       0.34      0.16      0.22       100\n",
      "        shark       0.44      0.37      0.40       100\n",
      "        shrew       0.26      0.30      0.28       100\n",
      "        skunk       0.69      0.60      0.64       100\n",
      "   skyscraper       0.83      0.70      0.76       100\n",
      "        snail       0.36      0.17      0.23       100\n",
      "        snake       0.12      0.25      0.16       100\n",
      "       spider       0.46      0.53      0.50       100\n",
      "     squirrel       0.40      0.06      0.10       100\n",
      "    streetcar       0.33      0.75      0.46       100\n",
      "    sunflower       0.68      0.84      0.75       100\n",
      " sweet_pepper       0.46      0.41      0.43       100\n",
      "        table       0.36      0.45      0.40       100\n",
      "         tank       0.76      0.38      0.51       100\n",
      "    telephone       0.47      0.44      0.46       100\n",
      "   television       0.55      0.65      0.59       100\n",
      "        tiger       0.25      0.55      0.34       100\n",
      "      tractor       0.37      0.43      0.40       100\n",
      "        train       0.39      0.47      0.43       100\n",
      "        trout       0.84      0.46      0.59       100\n",
      "        tulip       0.46      0.38      0.42       100\n",
      "       turtle       0.38      0.25      0.30       100\n",
      "     wardrobe       0.78      0.74      0.76       100\n",
      "        whale       0.63      0.37      0.47       100\n",
      "  willow_tree       0.29      0.33      0.31       100\n",
      "         wolf       0.60      0.24      0.34       100\n",
      "        woman       0.46      0.06      0.11       100\n",
      "         worm       0.21      0.48      0.29       100\n",
      "\n",
      "     accuracy                           0.43     10000\n",
      "    macro avg       0.49      0.43      0.43     10000\n",
      " weighted avg       0.49      0.43      0.43     10000\n",
      "\n"
     ]
    }
   ],
   "source": [
    "from sklearn.metrics import classification_report\n",
    "\n",
    "# Predict classes for test data\n",
    "y_pred_classes = np.argmax(model2(x_test_normalized), axis=1)\n",
    "y_true_classes = np.argmax(y_test_one_hot, axis=1)\n",
    "\n",
    "# Generate a classification report\n",
    "report = classification_report(y_true_classes, y_pred_classes, target_names=class_names)\n",
    "\n",
    "print(report)\n"
   ]
  },
  {
   "cell_type": "markdown",
   "id": "02ca8231",
   "metadata": {},
   "source": [
    "### Task 4c: Discussion of the results\n",
    "\n",
    "- Briefly discuss the results. \n",
    "- Did the model's performance improve? \n",
    "- Why do you think this is?\n",
    "- Do you think there is room for further improvement? Why or why not?\n",
    "- What other techniques might you try in the future?\n",
    "- Your answer should be no more than 200 words.\n"
   ]
  },
  {
   "cell_type": "markdown",
   "id": "ebaf0bcc",
   "metadata": {},
   "source": [
    "<b> model1 </b>"
   ]
  },
  {
   "cell_type": "markdown",
   "id": "6da3487a",
   "metadata": {},
   "source": [
    "The results indicate that the model achieved an overall accuracy of 38%, with varying performance across different classes. For instance, classes like \"apple,\" \"lawn_mower,\" and \"road\" performed reasonably well, while others, such as \"baby,\" \"bear,\" and \"raccoon,\" exhibited low performance.\n",
    "\n",
    "The performance did show some improvement after applying techniques like data augmentation and Dropout, as evidenced by the slightly higher accuracy compared to previous epochs.\n",
    "\n",
    "The improvement can be attributed to the inclusion of data augmentation, which helped increase the diversity of the training set, and Dropout, which helped prevent overfitting by promoting better generalization.\n",
    "\n",
    "Yes, there is room for improvement. The accuracy of 38% is still relatively low, indicating that the model has not fully captured the data's complexity. A more refined architecture or more advanced techniques could lead to better performance.\n",
    "\n",
    "In the future, I could experiment with transfer learning using pre-trained models like ResNet or EfficientNet, or introduce learning rate schedules and batch normalization for better training stability and performance."
   ]
  },
  {
   "cell_type": "markdown",
   "id": "7f6856ce",
   "metadata": {},
   "source": [
    "<b> model2 </b>"
   ]
  },
  {
   "cell_type": "markdown",
   "id": "17f7c0f5",
   "metadata": {},
   "source": [
    "The updated results show a noticeable improvement in the model's overall accuracy, increasing from 38% to 43%. This suggests that the applied techniques, such as data augmentation and Dropout, continue to yield positive effects. However, performance variability across classes persists, with some classes like \"chair\" and \"sunflower\" achieving higher F1-scores, while others, such as \"woman\" and \"otter,\" remain low.\n",
    "\n",
    "The improvement can again be attributed to the increased diversity in the training data and better generalization due to Dropout. However, the uneven performance across classes indicates that the model still struggles with certain features, likely due to class imbalance or overlapping characteristics between classes.\n",
    "\n",
    "Despite the improvement, the overall performance is still modest, leaving significant room for enhancement. Advanced techniques such as transfer learning with pre-trained models like ResNet or EfficientNet could help leverage learned features from larger datasets. Additionally, learning rate schedules, batch normalization, or ensembling multiple models could improve stability and performance."
   ]
  },
  {
   "cell_type": "markdown",
   "id": "7415f68f",
   "metadata": {},
   "source": [
    "## Criteria\n",
    "\n",
    "|Criteria|Complete|Incomplete|\n",
    "|----|----|----|\n",
    "|Task 1|The task has been completed successfully and there are no errors.|The task is still incomplete and there is at least one error.|\n",
    "|Task 2|The task has been completed successfully and there are no errors.|The task is still incomplete and there is at least one error.|\n",
    "|Task 3|The task has been completed successfully and there are no errors.|The task is still incomplete and there is at least one error.|\n",
    "|Task 4|The task has been completed successfully and there are no errors.|The task is still incomplete and there is at least one error.|"
   ]
  },
  {
   "cell_type": "markdown",
   "id": "ad0c10bc",
   "metadata": {},
   "source": [
    "## Submission Information\n",
    "\n",
    "🚨 **Please review our [Assignment Submission Guide](https://github.com/UofT-DSI/onboarding/blob/main/onboarding_documents/submissions.md)** 🚨 for detailed instructions on how to format, branch, and submit your work. Following these guidelines is crucial for your submissions to be evaluated correctly.\n",
    "\n",
    "### Submission Parameters:\n",
    "* Submission Due Date: `HH:MM AM/PM - DD/MM/YYYY`\n",
    "* The branch name for your repo should be: `assignment-1`\n",
    "* What to submit for this assignment:\n",
    "    * This Jupyter Notebook (assignment_1.ipynb) should be populated and should be the only change in your pull request.\n",
    "* What the pull request link should look like for this assignment: `https://github.com/<your_github_username>/deep_learning/pull/<pr_id>`\n",
    "    * Open a private window in your browser. Copy and paste the link to your pull request into the address bar. Make sure you can see your pull request properly. This helps the technical facilitator and learning support staff review your submission easily.\n",
    "\n",
    "Checklist:\n",
    "- [ ] Created a branch with the correct naming convention.\n",
    "- [ ] Ensured that the repository is public.\n",
    "- [ ] Reviewed the PR description guidelines and adhered to them.\n",
    "- [ ] Verify that the link is accessible in a private browser window.\n",
    "\n",
    "If you encounter any difficulties or have questions, please don't hesitate to reach out to our team via our Slack at `#cohort-3-help`. Our Technical Facilitators and Learning Support staff are here to help you navigate any challenges."
   ]
  }
 ],
 "metadata": {
  "kernelspec": {
   "display_name": "dsi_participant3",
   "language": "python",
   "name": "python3"
  },
  "language_info": {
   "codemirror_mode": {
    "name": "ipython",
    "version": 3
   },
   "file_extension": ".py",
   "mimetype": "text/x-python",
   "name": "python",
   "nbconvert_exporter": "python",
   "pygments_lexer": "ipython3",
   "version": "3.9.20"
  }
 },
 "nbformat": 4,
 "nbformat_minor": 5
}
